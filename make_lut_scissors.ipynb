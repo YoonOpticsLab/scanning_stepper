{
 "cells": [
  {
   "cell_type": "code",
   "execution_count": null,
   "id": "cf5088c2",
   "metadata": {},
   "outputs": [],
   "source": [
    "%pylab inline"
   ]
  },
  {
   "cell_type": "code",
   "execution_count": null,
   "id": "790aed31",
   "metadata": {},
   "outputs": [],
   "source": [
    "num_steps=7000 # We know (empirically) 7000 steps to go from minimum to maximum\n",
    "\n",
    "x=np.arange(num_steps)\n",
    "\n",
    "print(3000000/num_steps) # Average inter-step interval\n",
    "\n",
    "desired_y=(49.4145 / num_steps * (x+1) ) "
   ]
  },
  {
   "cell_type": "code",
   "execution_count": null,
   "id": "dd145b64",
   "metadata": {},
   "outputs": [],
   "source": []
  },
  {
   "cell_type": "code",
   "execution_count": null,
   "id": "3bab24a5",
   "metadata": {},
   "outputs": [],
   "source": [
    "# The measured movement follows this quadratic behavior. (Empirical, fit to a quadratic)\n",
    "a=0.0071\n",
    "b=0.7059\n",
    "c=-0.3251\n",
    "xr=np.linspace(-35,35,num_steps)\n",
    "real_pos=a*xr**2+b*xr+c"
   ]
  },
  {
   "cell_type": "code",
   "execution_count": null,
   "id": "af602add",
   "metadata": {},
   "outputs": [],
   "source": [
    "# Not used, but can map from non-linear to linear position\n",
    "# xr_posh\n",
    "# desired_pos=(-b+np.sqrt(b**2-4*a*(-desired_y)))/(2*a)\n",
    "# np.interp(3500,desired_y,desired_pos)\n",
    "# plt.plot( desired_pos, desired_y)"
   ]
  },
  {
   "cell_type": "code",
   "execution_count": null,
   "id": "5af66bc0",
   "metadata": {},
   "outputs": [],
   "source": [
    "# Solve to get a mapping as a function of linear variable (here time)\n",
    "x_time=np.linspace(0,3.415,num_steps) # Not sure why 3.415\n",
    "a,b,c=np.polyfit(x_time,real_pos,2)\n",
    "print( a, b, c)\n",
    "c_orig=c"
   ]
  },
  {
   "cell_type": "code",
   "execution_count": null,
   "id": "8caaafe8",
   "metadata": {},
   "outputs": [],
   "source": [
    "xr_steps=np.arange(7000)\n",
    "fit_quad_pos=np.polyfit(xr_steps,real_pos,2)\n",
    "print( fit_quad_pos )\n"
   ]
  },
  {
   "cell_type": "code",
   "execution_count": null,
   "id": "3e03d34b",
   "metadata": {},
   "outputs": [],
   "source": [
    "# So, invert to find the time between steps (the xs) that yield equally spaced desired_y's\n",
    "a=2.983135 #3.8687\n",
    "b=4.28199 #4.8654\n",
    "c=0.4721\n",
    "desired_times=(-b+np.sqrt(b**2-4*a*(-desired_y)))/(2*a)\n",
    "intervals=np.diff(desired_times)"
   ]
  },
  {
   "cell_type": "code",
   "execution_count": null,
   "id": "903a15ac",
   "metadata": {},
   "outputs": [],
   "source": [
    "plt.figure(figsize=(15,5))\n",
    "offset=c_orig\n",
    "plt.plot( x_time, a*x_time**2+ b*x_time+c*0+c_orig-offset)\n",
    "plt.plot( x_time, real_pos-offset, '-', lw=3 )\n",
    "\n",
    "plt.xlabel(\"Time (sec)\", size=18)\n",
    "plt.ylabel(\"Physical position\\n (approx)\", size=18)\n",
    "plt.grid()\n",
    "#plt.plot( x_time, a*x_time**2+ b*x_time+-16 )\n",
    "\n",
    "# This isn't right:\n",
    "if False:\n",
    "    plt.plot(xr_steps/7000*x_time[-1], fit_quad_pos[0]*xr_steps**2+fit_quad_pos[1]*xr_steps+fit_quad_pos[0], 'g:')\n",
    "    xl1=plt.xlim(0,x_time[-1])\n",
    "    ax2=plt.twiny()\n",
    "\n",
    "    xt=linspace(0,7000,8)\n",
    "\n",
    "    ax2.set_xticks(xt/7000);\n",
    "    #xt=np.linspace(0,)\n",
    "    ax2.set_xticklabels(xt);\n",
    "    ax2.set_xlabel(\"Step #\", size=18)"
   ]
  },
  {
   "cell_type": "code",
   "execution_count": null,
   "id": "9cd2d768",
   "metadata": {},
   "outputs": [],
   "source": [
    "plt.figure(figsize=(15,4))\n",
    "\n",
    "plt.grid()"
   ]
  },
  {
   "cell_type": "code",
   "execution_count": null,
   "id": "de9bf387",
   "metadata": {},
   "outputs": [],
   "source": [
    "np.interp(desired_times[-1]/2, desired_times, xr_steps)\n",
    "# Excellent, Very close to Chloe's empirical estimate of -32.5+10 to 32.5+10 !"
   ]
  },
  {
   "cell_type": "code",
   "execution_count": null,
   "id": "2ba7c41c",
   "metadata": {},
   "outputs": [],
   "source": [
    "desired_y[0:5],desired_y[-5:]"
   ]
  },
  {
   "cell_type": "code",
   "execution_count": null,
   "id": "ef58a994",
   "metadata": {},
   "outputs": [],
   "source": [
    "intervals[0:],intervals[-5:] # These match Chloe's spreadsheet"
   ]
  },
  {
   "cell_type": "code",
   "execution_count": null,
   "id": "09e9a50f",
   "metadata": {},
   "outputs": [],
   "source": [
    "intervals_usec = intervals * 1000000 # Convert to usec"
   ]
  },
  {
   "cell_type": "code",
   "execution_count": null,
   "id": "d69be9d9",
   "metadata": {},
   "outputs": [],
   "source": [
    "# Time between steps. This gets shorter as time goes on, since the motor needs\n",
    "# to \"speed up\" to compensave for the nonlinear behavior of the vertical movement\n",
    "# of the scissors lift (compared to the linear horizontal motion).\n",
    "plt.plot(x[1:],intervals_usec)\n",
    "plt.ylabel(\"Delay btwn steps (usec)\", size=18)\n",
    "plt.xlabel(\"Step #\", size=18)\n",
    "plt.grid()\n",
    "\n",
    "#plt.semilogx()\n",
    "ax2=plt.twinx()"
   ]
  },
  {
   "cell_type": "code",
   "execution_count": null,
   "id": "c0c753c4",
   "metadata": {},
   "outputs": [],
   "source": [
    "# Scale the intervals to uint8 for the table, going from 0-254 (linear)\n",
    "# We lose precision, of course, but hopefully with rounding are\n",
    "# still close to the desired behavior.\n",
    "\n",
    "INTERVAL_TABLE_MAX=254.0 # uint8, from 0-254\n",
    "\n",
    "expander_exponent=11 # To get a more accurate int, multiply/divide by this (2k)\n",
    "\n",
    "interval_min=np.round( np.min(intervals_usec) )\n",
    "interval_max=np.max(intervals_usec)\n",
    "scaler=((interval_max-interval_min)/INTERVAL_TABLE_MAX)\n",
    "scaler_expanded=np.round( scaler*(2**expander_exponent) )\n",
    "if scaler==0: scaler=1 # For constants scalar might be 0\n",
    "\n",
    "intervals_int8=np.round( (intervals_usec-interval_min)/scaler )\n",
    "intervals_int8_recon = np.array(\n",
    "    intervals_int8 * scaler_expanded/(2**expander_exponent) + interval_min, dtype=int)"
   ]
  },
  {
   "cell_type": "code",
   "execution_count": null,
   "id": "cb144232",
   "metadata": {},
   "outputs": [],
   "source": [
    "interval_min,interval_max,scaler,scaler_expanded,intervals_int8"
   ]
  },
  {
   "cell_type": "code",
   "execution_count": null,
   "id": "28b2b19e",
   "metadata": {},
   "outputs": [],
   "source": [
    "np.sum(intervals_int8_recon[250:-250]) # Should be close to 3sec"
   ]
  },
  {
   "cell_type": "code",
   "execution_count": null,
   "id": "7c1da48d",
   "metadata": {},
   "outputs": [],
   "source": [
    "intervals_int8[0:5],intervals_int8[-5:]"
   ]
  },
  {
   "cell_type": "code",
   "execution_count": null,
   "id": "f8854c03",
   "metadata": {},
   "outputs": [],
   "source": [
    "fil=open('lookup_table1.h','wt')\n",
    "fil.writelines('const unsigned int table1_info[] = {\\n')\n",
    "fil.writelines('\\t%d, //num_steps\\n'%num_steps);\n",
    "fil.writelines('\\t%d, //const unsigned int table_scaler = ;\\n'%scaler_expanded);\n",
    "fil.writelines('\\t%d, //const unsigned int table_expander_exponent = ;\\n'%expander_exponent);\n",
    "fil.writelines('\\t%d}; //const unsigned int table_interval_min = };\\n'%interval_min);\n",
    "fil.writelines('const PROGMEM uint8_t table1[] = {\\n');\n",
    "for nelement in intervals_int8:\n",
    "    fil.writelines('%d,\\n'%nelement)\n",
    "fil.writelines('};\\n');\n",
    "fil.close()"
   ]
  },
  {
   "cell_type": "code",
   "execution_count": null,
   "id": "58a327a7",
   "metadata": {},
   "outputs": [],
   "source": [
    "if np.max(intervals_int8)>2**8:\n",
    "    print(\"Problem, exceeded 8-bit table.\")\n",
    "else:\n",
    "    print(\"Ok. Please close/reopen Arduino IDE and recompile\")\n",
    "    print( datetime.datetime.now() )"
   ]
  },
  {
   "cell_type": "code",
   "execution_count": null,
   "id": "e90025dd",
   "metadata": {},
   "outputs": [],
   "source": [
    "%load_ext autoreload\n",
    "%autoreload 2\n",
    "\n",
    "import luts"
   ]
  },
  {
   "cell_type": "code",
   "execution_count": null,
   "id": "59541672",
   "metadata": {},
   "outputs": [],
   "source": [
    "# I don't understand why this plot doesn't go all the way up to 42.5 (_END)\n",
    "plt.figure(figsize=(15,3))\n",
    "offset=-(-22.5-c_orig)\n",
    "plt.plot( x_time, a*x_time**2+ b*x_time+c_orig-offset)\n",
    "plt.grid()\n"
   ]
  },
  {
   "cell_type": "code",
   "execution_count": null,
   "id": "87693aac",
   "metadata": {},
   "outputs": [],
   "source": [
    "luts.STEPPER1_MAX_FUDGE * 1.020, 6750/7000, 7000 - 7000 * luts.STEPPER1_MAX_FUDGE2"
   ]
  },
  {
   "cell_type": "code",
   "execution_count": null,
   "id": "90ae92e4",
   "metadata": {},
   "outputs": [],
   "source": [
    "luts.STEPPER1_END,luts.STEPPER1_START, luts.STEPPER1_END - luts.STEPPER1_START"
   ]
  },
  {
   "cell_type": "code",
   "execution_count": null,
   "id": "438f6ebd",
   "metadata": {},
   "outputs": [],
   "source": [
    "luts.get_pos(-1,1,3)\n",
    "print()\n",
    "luts.get_pos(1,-1.0,3)\n",
    "print()\n",
    "luts.get_pos(-1,0.5,3)\n",
    "print()\n",
    "print()\n",
    "luts.get_pos(0,0.5,3)\n",
    "print()\n",
    "luts.get_pos(0,-0.5,3)\n",
    "print()\n",
    "print()\n",
    "luts.get_pos(-0.5,0.5,3)\n",
    "print()\n",
    "luts.get_pos(0.5,-0.5,3)\n",
    "print()\n",
    "print()\n",
    "luts.get_pos(-0.1,0.1,3)\n",
    "print()\n",
    "luts.get_pos(0.1,-0.1,3)"
   ]
  },
  {
   "cell_type": "code",
   "execution_count": null,
   "id": "2c29d6fd",
   "metadata": {},
   "outputs": [],
   "source": []
  },
  {
   "cell_type": "code",
   "execution_count": null,
   "id": "e06eb8bc",
   "metadata": {},
   "outputs": [],
   "source": [
    "luts.xr_steps[3000::-1]"
   ]
  },
  {
   "cell_type": "code",
   "execution_count": null,
   "id": "551d8d09",
   "metadata": {},
   "outputs": [],
   "source": [
    "luts.get_pos(0,1,3)"
   ]
  },
  {
   "cell_type": "code",
   "execution_count": null,
   "id": "3b56cc28",
   "metadata": {},
   "outputs": [],
   "source": [
    "luts.get_pos(-1,2250,3)"
   ]
  },
  {
   "cell_type": "code",
   "execution_count": null,
   "id": "ee08f85e",
   "metadata": {},
   "outputs": [],
   "source": []
  },
  {
   "cell_type": "code",
   "execution_count": null,
   "id": "d3c4bdde",
   "metadata": {},
   "outputs": [],
   "source": [
    "luts.get_pos(0,2250,3)"
   ]
  },
  {
   "cell_type": "code",
   "execution_count": null,
   "id": "6308f25a",
   "metadata": {},
   "outputs": [],
   "source": [
    "luts.get_pos(1,-6500,3)"
   ]
  },
  {
   "cell_type": "code",
   "execution_count": null,
   "id": "dd0f16e1",
   "metadata": {},
   "outputs": [],
   "source": [
    "luts.get_pos(1,-1,3)"
   ]
  },
  {
   "cell_type": "code",
   "execution_count": null,
   "id": "e616153f",
   "metadata": {},
   "outputs": [],
   "source": [
    "luts.get_pos(-0.1,0.1,3)"
   ]
  },
  {
   "cell_type": "code",
   "execution_count": null,
   "id": "77ac20f0",
   "metadata": {},
   "outputs": [],
   "source": [
    "luts.get_pos(0.1,-0.1,3)"
   ]
  },
  {
   "cell_type": "code",
   "execution_count": null,
   "id": "0bdce616",
   "metadata": {},
   "outputs": [],
   "source": [
    "plt.plot( luts.desired_times)"
   ]
  },
  {
   "cell_type": "code",
   "execution_count": null,
   "id": "45ae379c",
   "metadata": {},
   "outputs": [],
   "source": [
    "luts.intervals[6750:250:-1]"
   ]
  },
  {
   "cell_type": "code",
   "execution_count": null,
   "id": "94c492f6",
   "metadata": {},
   "outputs": [],
   "source": []
  }
 ],
 "metadata": {
  "kernelspec": {
   "display_name": "Python 3 (ipykernel)",
   "language": "python",
   "name": "python3"
  },
  "language_info": {
   "codemirror_mode": {
    "name": "ipython",
    "version": 3
   },
   "file_extension": ".py",
   "mimetype": "text/x-python",
   "name": "python",
   "nbconvert_exporter": "python",
   "pygments_lexer": "ipython3",
   "version": "3.10.12"
  }
 },
 "nbformat": 4,
 "nbformat_minor": 5
}
