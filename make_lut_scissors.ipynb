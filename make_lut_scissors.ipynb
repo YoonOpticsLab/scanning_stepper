{
 "cells": [
  {
   "cell_type": "code",
   "execution_count": null,
   "id": "cf5088c2",
   "metadata": {},
   "outputs": [],
   "source": [
    "%pylab inline"
   ]
  },
  {
   "cell_type": "code",
   "execution_count": null,
   "id": "790aed31",
   "metadata": {},
   "outputs": [],
   "source": [
    "num_steps=7000 # We know (empirically) 7000 steps to go from minimum to maximum\n",
    "\n",
    "x=np.arange(num_steps)\n",
    "\n",
    "print(3000000/num_steps) # Average inter-step interval"
   ]
  },
  {
   "cell_type": "code",
   "execution_count": null,
   "id": "dd145b64",
   "metadata": {},
   "outputs": [],
   "source": [
    "desired_y=(49.4145 / num_steps * (x+1) ) # 49.4145: Total desired vertical mvmt (?)"
   ]
  },
  {
   "cell_type": "code",
   "execution_count": null,
   "id": "3bab24a5",
   "metadata": {},
   "outputs": [],
   "source": [
    "a=0.0071\n",
    "b=0.7059\n",
    "c=-0.3251\n",
    "xr=np.linspace(-35,35,num_steps)\n",
    "real_pos=a*xr**2+b*xr+c\n"
   ]
  },
  {
   "cell_type": "code",
   "execution_count": null,
   "id": "ffa2c7bd",
   "metadata": {},
   "outputs": [],
   "source": [
    "real_pos"
   ]
  },
  {
   "cell_type": "code",
   "execution_count": null,
   "id": "5af66bc0",
   "metadata": {},
   "outputs": [],
   "source": [
    "x_time=np.linspace(0,3.415,num_steps)\n",
    "a,b,c=np.polyfit(x_time,real_pos,2)\n",
    "print( a, b, c)\n",
    "\n",
    "desired_times=(-b+np.sqrt(b**2-4*a*(-desired_y)))/(2*a)\n",
    "intervals=np.diff(desired_times)\n",
    "np.sum(intervals[250:-250])"
   ]
  },
  {
   "cell_type": "code",
   "execution_count": null,
   "id": "903a15ac",
   "metadata": {},
   "outputs": [],
   "source": [
    "plt.plot( x_time, a*x_time**2+ b*x_time+0 )\n",
    "#plt.plot( x_time, a*x_time**2+ b*x_time+-16 )"
   ]
  },
  {
   "cell_type": "code",
   "execution_count": null,
   "id": "2ba7c41c",
   "metadata": {},
   "outputs": [],
   "source": [
    "desired_y[0:5],desired_y[-5:]"
   ]
  },
  {
   "cell_type": "code",
   "execution_count": null,
   "id": "3e03d34b",
   "metadata": {},
   "outputs": [],
   "source": [
    "# The measured movement follows this quadratic behavior. (Empirical, fit to a quadratic)\n",
    "# So, invert to find the time between steps (the xs) that yield equally spaced desired_y's\n",
    "a=2.983135 #3.8687\n",
    "b=4.28199 #4.8654\n",
    "c=0.4721\n",
    "desired_times=(-b+np.sqrt(b**2-4*a*(-desired_y)))/(2*a)\n",
    "intervals=np.diff(desired_times)"
   ]
  },
  {
   "cell_type": "code",
   "execution_count": null,
   "id": "d69be9d9",
   "metadata": {},
   "outputs": [],
   "source": [
    "# Time between steps. This gets shorter as time goes on, since the motor needs\n",
    "# to \"speed up\" to compensave for the nonlinear behavior of the vertical movement\n",
    "# of the scissors lift (compared to the linear horizontal motion).\n",
    "plt.plot(x[1:],intervals)"
   ]
  },
  {
   "cell_type": "code",
   "execution_count": null,
   "id": "ef58a994",
   "metadata": {},
   "outputs": [],
   "source": [
    "intervals[0:],intervals[-5:] # These match Chloe's spreadsheet"
   ]
  },
  {
   "cell_type": "code",
   "execution_count": null,
   "id": "09e9a50f",
   "metadata": {},
   "outputs": [],
   "source": [
    "intervals_usec = intervals * 1000000 # Convert to usec"
   ]
  },
  {
   "cell_type": "code",
   "execution_count": null,
   "id": "09ede420",
   "metadata": {},
   "outputs": [],
   "source": [
    "#intervals_usec = intervals_usec * 0 + 250 # To test a constants inverval"
   ]
  },
  {
   "cell_type": "code",
   "execution_count": null,
   "id": "c0c753c4",
   "metadata": {},
   "outputs": [],
   "source": [
    "# Scale the intervals to uint8 for the table, going from 0-254 (linear)\n",
    "# We lose precision, of course, but hopefully with rounding are\n",
    "# still close to the desired behavior.\n",
    "\n",
    "INTERVAL_TABLE_MAX=254.0 # uint8, from 0-254\n",
    "\n",
    "expander_exponent=11 # To get a more accurate int, multiply/divide by this (2k)\n",
    "\n",
    "interval_min=np.round( np.min(intervals_usec) )\n",
    "interval_max=np.max(intervals_usec)\n",
    "scaler=((interval_max-interval_min)/INTERVAL_TABLE_MAX)\n",
    "scaler_expanded=np.round( scaler*(2**expander_exponent) )\n",
    "if scaler==0: scaler=1 # For constants scalar might be 0\n",
    "\n",
    "intervals_int8=np.round( (intervals_usec-interval_min)/scaler )\n",
    "intervals_int8_recon = np.array(\n",
    "    intervals_int8 * scaler_expanded/(2**expander_exponent) + interval_min, dtype=int)"
   ]
  },
  {
   "cell_type": "code",
   "execution_count": null,
   "id": "cb144232",
   "metadata": {},
   "outputs": [],
   "source": [
    "interval_min,interval_max,scaler,scaler_expanded,intervals_int8"
   ]
  },
  {
   "cell_type": "code",
   "execution_count": null,
   "id": "28b2b19e",
   "metadata": {},
   "outputs": [],
   "source": [
    "np.sum(intervals_int8_recon[250:-250]) # Should be close to 3sec"
   ]
  },
  {
   "cell_type": "code",
   "execution_count": null,
   "id": "7c1da48d",
   "metadata": {},
   "outputs": [],
   "source": [
    "intervals_int8[0:5],intervals_int8[-5:]"
   ]
  },
  {
   "cell_type": "code",
   "execution_count": null,
   "id": "f8854c03",
   "metadata": {},
   "outputs": [],
   "source": [
    "fil=open('lookup_table1.h','wt')\n",
    "fil.writelines('const unsigned int table1_info[] = {\\n')\n",
    "fil.writelines('\\t%d, //num_steps\\n'%num_steps);\n",
    "fil.writelines('\\t%d, //const unsigned int table_scaler = ;\\n'%scaler_expanded);\n",
    "fil.writelines('\\t%d, //const unsigned int table_expander_exponent = ;\\n'%expander_exponent);\n",
    "fil.writelines('\\t%d}; //const unsigned int table_interval_min = };\\n'%interval_min);\n",
    "fil.writelines('const PROGMEM uint8_t table1[] = {\\n');\n",
    "for nelement in intervals_int8:\n",
    "    fil.writelines('%d,\\n'%nelement)\n",
    "fil.writelines('};\\n');\n",
    "fil.close()"
   ]
  },
  {
   "cell_type": "code",
   "execution_count": null,
   "id": "58a327a7",
   "metadata": {},
   "outputs": [],
   "source": [
    "if np.max(intervals_int8)>2**8:\n",
    "    print(\"Problem, exceeded 8-bit table.\")\n",
    "else:\n",
    "    print(\"Ok. Please close/reopen Arduino IDE and recompile\")\n",
    "    print( datetime.datetime.now() )"
   ]
  }
 ],
 "metadata": {
  "kernelspec": {
   "display_name": "Python 3 (ipykernel)",
   "language": "python",
   "name": "python3"
  },
  "language_info": {
   "codemirror_mode": {
    "name": "ipython",
    "version": 3
   },
   "file_extension": ".py",
   "mimetype": "text/x-python",
   "name": "python",
   "nbconvert_exporter": "python",
   "pygments_lexer": "ipython3",
   "version": "3.10.8"
  }
 },
 "nbformat": 4,
 "nbformat_minor": 5
}
