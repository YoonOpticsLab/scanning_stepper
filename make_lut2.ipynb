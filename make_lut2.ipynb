{
 "cells": [
  {
   "cell_type": "code",
   "execution_count": null,
   "id": "cf5088c2",
   "metadata": {},
   "outputs": [],
   "source": [
    "%pylab inline"
   ]
  },
  {
   "cell_type": "code",
   "execution_count": null,
   "id": "790aed31",
   "metadata": {},
   "outputs": [],
   "source": [
    "num_steps=6400 #  Empirical\n",
    "\n",
    "x=np.arange(num_steps)\n",
    "\n",
    "print(3000000/num_steps/2.0) # It goes over the whole space twice"
   ]
  },
  {
   "cell_type": "code",
   "execution_count": null,
   "id": "dd145b64",
   "metadata": {},
   "outputs": [],
   "source": [
    "desired_y=(49.4145 / 7000 * (x+1.0) ) # 49.4145: Total desired vertical mvmt (?)"
   ]
  },
  {
   "cell_type": "code",
   "execution_count": null,
   "id": "2ba7c41c",
   "metadata": {},
   "outputs": [],
   "source": [
    "desired_y[0:5],desired_y[-5:]"
   ]
  },
  {
   "cell_type": "code",
   "execution_count": null,
   "id": "3e03d34b",
   "metadata": {},
   "outputs": [],
   "source": [
    "# The measured movement follows this quadratic behavior. (Empirical, fit to a quadratic)\n",
    "# So, invert to find the time between steps (the xs) that yield equally spaced desired_y's\n",
    "a=3.8687\n",
    "b=4.8654\n",
    "c=0.4721\n",
    "desired_times=(-b+np.sqrt(b**2-4*a*(-desired_y)))/(2*a)\n",
    "intervals=np.diff(desired_times)"
   ]
  },
  {
   "cell_type": "code",
   "execution_count": null,
   "id": "d69be9d9",
   "metadata": {},
   "outputs": [],
   "source": [
    "# Time between steps. This gets shorter as time goes on, since the motor needs\n",
    "# to \"speed up\" to compensave for the nonlinear behavior of the vertical movement\n",
    "# of the scissors lift (compared to the linear horizontal motion).\n",
    "plt.plot(x[1:],intervals)"
   ]
  },
  {
   "cell_type": "code",
   "execution_count": null,
   "id": "ef58a994",
   "metadata": {},
   "outputs": [],
   "source": [
    "intervals[0:],intervals[-5:] # These match Chloe's spreadsheet"
   ]
  },
  {
   "cell_type": "code",
   "execution_count": null,
   "id": "09e9a50f",
   "metadata": {},
   "outputs": [],
   "source": [
    "intervals_usec = intervals * 1000000 # Convert to usec"
   ]
  },
  {
   "cell_type": "code",
   "execution_count": null,
   "id": "09ede420",
   "metadata": {},
   "outputs": [],
   "source": [
    "intervals_usec = intervals_usec * 0 + 3000000/num_steps/2.0 # To test a constants inverval"
   ]
  },
  {
   "cell_type": "code",
   "execution_count": null,
   "id": "177757c0",
   "metadata": {},
   "outputs": [],
   "source": [
    "import pandas as pd"
   ]
  },
  {
   "cell_type": "code",
   "execution_count": null,
   "id": "0570125f",
   "metadata": {},
   "outputs": [],
   "source": [
    "df=pd.read_excel('./table_12800.xls')\n",
    "times=df['time between each step']"
   ]
  },
  {
   "cell_type": "code",
   "execution_count": null,
   "id": "265e23dc",
   "metadata": {},
   "outputs": [],
   "source": [
    "times[1000]*1000000"
   ]
  },
  {
   "cell_type": "code",
   "execution_count": null,
   "id": "c0c753c4",
   "metadata": {},
   "outputs": [],
   "source": [
    "# Scale the intervals to uint8 for the table, going from 0-254 (linear)\n",
    "# We lose precision, of course, but hopefully with rounding are\n",
    "# still close to the desired behavior.\n",
    "\n",
    "INTERVAL_TABLE_MAX=254.0 # uint8, from 0-254\n",
    "\n",
    "expander_exponent=11 # To get a more accurate int, multiply/divide by this (2k)\n",
    "\n",
    "interval_min=np.round( np.min(intervals_usec) )\n",
    "interval_max=np.max(intervals_usec)\n",
    "scaler=((interval_max-interval_min)/INTERVAL_TABLE_MAX)\n",
    "scaler_expanded=np.round( scaler*(2**expander_exponent) )\n",
    "if scaler==0: scaler=1 # For constants scalar might be 0\n",
    "\n",
    "intervals_int8=np.round( (intervals_usec-interval_min)/scaler )\n",
    "intervals_int8_recon = np.array(\n",
    "    intervals_int8 * scaler_expanded/(2**expander_exponent) + interval_min, dtype=int)\n",
    "\n",
    "interval_min,interval_max,scaler,scaler_expanded,intervals_int8"
   ]
  },
  {
   "cell_type": "code",
   "execution_count": null,
   "id": "cb144232",
   "metadata": {},
   "outputs": [],
   "source": []
  },
  {
   "cell_type": "code",
   "execution_count": null,
   "id": "d8c310cd",
   "metadata": {},
   "outputs": [],
   "source": []
  },
  {
   "cell_type": "code",
   "execution_count": null,
   "id": "28b2b19e",
   "metadata": {},
   "outputs": [],
   "source": [
    "np.sum(intervals_int8_recon) # Should be close to 3sec"
   ]
  },
  {
   "cell_type": "code",
   "execution_count": null,
   "id": "7c1da48d",
   "metadata": {},
   "outputs": [],
   "source": [
    "intervals_int8[0:5],intervals_int8[-5:]"
   ]
  },
  {
   "cell_type": "code",
   "execution_count": null,
   "id": "f8854c03",
   "metadata": {},
   "outputs": [],
   "source": [
    "fil=open('lookup_table2.h','wt')\n",
    "fil.writelines('const unsigned int table2_info[] = {\\n')\n",
    "fil.writelines('\\t%d, //num_steps\\n'%num_steps);\n",
    "fil.writelines('\\t%d, //const unsigned int table_scaler = ;\\n'%scaler_expanded);\n",
    "fil.writelines('\\t%d, //const unsigned int table_expander_exponent = ;\\n'%expander_exponent);\n",
    "fil.writelines('\\t%d}; //const unsigned int table_interval_min = };\\n'%interval_min);\n",
    "fil.writelines('const PROGMEM uint8_t table2[] = {\\n');\n",
    "for nelement in intervals_int8:\n",
    "    fil.writelines('%d,\\n'%nelement)\n",
    "fil.writelines('};\\n');\n",
    "fil.close()"
   ]
  },
  {
   "cell_type": "code",
   "execution_count": null,
   "id": "58a327a7",
   "metadata": {},
   "outputs": [],
   "source": [
    "# In reverse:\n",
    "fil=open('lookup_table2r.h','wt')\n",
    "fil.writelines('const unsigned int table2r_info[] = {\\n')\n",
    "fil.writelines('\\t%d, //num_steps\\n'%num_steps);\n",
    "fil.writelines('\\t%d, //const unsigned int table_scaler = ;\\n'%scaler_expanded);\n",
    "fil.writelines('\\t%d, //const unsigned int table_expander_exponent = ;\\n'%expander_exponent);\n",
    "fil.writelines('\\t%d}; //const unsigned int table_interval_min = };\\n'%interval_min);\n",
    "fil.writelines('const PROGMEM uint8_t table2r[] = {\\n');\n",
    "for nelement in intervals_int8[::-1]:\n",
    "    fil.writelines('%d,\\n'% (nelement*0+2) )\n",
    "fil.writelines('};\\n');\n",
    "fil.close()"
   ]
  }
 ],
 "metadata": {
  "kernelspec": {
   "display_name": "Python 3 (ipykernel)",
   "language": "python",
   "name": "python3"
  },
  "language_info": {
   "codemirror_mode": {
    "name": "ipython",
    "version": 3
   },
   "file_extension": ".py",
   "mimetype": "text/x-python",
   "name": "python",
   "nbconvert_exporter": "python",
   "pygments_lexer": "ipython3",
   "version": "3.10.4"
  }
 },
 "nbformat": 4,
 "nbformat_minor": 5
}
