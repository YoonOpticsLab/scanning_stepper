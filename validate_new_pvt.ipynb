{
 "cells": [
  {
   "cell_type": "code",
   "execution_count": null,
   "id": "76ba2c6d",
   "metadata": {},
   "outputs": [],
   "source": [
    "%pylab inline\n",
    "import pandas as pd"
   ]
  },
  {
   "cell_type": "code",
   "execution_count": null,
   "id": "aa1f76d3",
   "metadata": {},
   "outputs": [],
   "source": [
    "pos=pd.read_excel('../pos_good.xls',header=None, dtype='float')"
   ]
  },
  {
   "cell_type": "code",
   "execution_count": null,
   "id": "13c70609",
   "metadata": {},
   "outputs": [],
   "source": [
    "pos.iloc[:,4]"
   ]
  },
  {
   "cell_type": "code",
   "execution_count": null,
   "id": "6cc46dd1",
   "metadata": {},
   "outputs": [],
   "source": [
    "figure(figsize=(15,4))\n",
    "\n",
    "xr_abs=pos.iloc[:,0]\n",
    "xr = (xr_abs-xr_abs[0]) / 1e6\n",
    "plt.plot( xr, pos.iloc[:,1], '.-' )\n",
    "plt.plot( xr, pos.iloc[:,2], '.-' )\n",
    "plt.plot( xr, pos.iloc[:,3], '.-' )\n",
    "plt.plot( xr, pos.iloc[:,4], '.-' )"
   ]
  },
  {
   "cell_type": "code",
   "execution_count": null,
   "id": "f9c93b45",
   "metadata": {},
   "outputs": [],
   "source": [
    "for which in np.arange(4)+1:\n",
    "    if not which==2:\n",
    "        plt.plot( xr, pos.iloc[:,which]/pos.iloc[:,which].max()+which/10.0, '.-', label=which )\n",
    "    else:\n",
    "        plt.plot( xr, pos.iloc[:,which]/pos.iloc[:,which].min(), '.-', label=which )\n",
    "        \n",
    "plt.legend()\n",
    "plt.grid()"
   ]
  },
  {
   "cell_type": "code",
   "execution_count": null,
   "id": "aaa59b37",
   "metadata": {},
   "outputs": [],
   "source": [
    "pos.iloc[:,3]/pos.iloc[:,3].max()"
   ]
  },
  {
   "cell_type": "code",
   "execution_count": null,
   "id": "fbd7ca57",
   "metadata": {},
   "outputs": [],
   "source": [
    "np.array(xr)"
   ]
  },
  {
   "cell_type": "code",
   "execution_count": null,
   "id": "5d715ed8",
   "metadata": {},
   "outputs": [],
   "source": [
    "np.diff( pos.iloc[:,0] )"
   ]
  },
  {
   "cell_type": "code",
   "execution_count": null,
   "id": "1c9d91d3",
   "metadata": {},
   "outputs": [],
   "source": [
    "3 / 26.0"
   ]
  },
  {
   "cell_type": "code",
   "execution_count": null,
   "id": "a2af5fa6",
   "metadata": {},
   "outputs": [],
   "source": [
    "ui.make_positions()"
   ]
  },
  {
   "cell_type": "code",
   "execution_count": null,
   "id": "25fc4704",
   "metadata": {},
   "outputs": [],
   "source": [
    "import ui"
   ]
  },
  {
   "cell_type": "code",
   "execution_count": null,
   "id": "9a6ec85c",
   "metadata": {},
   "outputs": [],
   "source": [
    "pos2=pd.read_csv('./pos_new_pvt.csv',header=None, dtype='float')"
   ]
  },
  {
   "cell_type": "code",
   "execution_count": null,
   "id": "39a90719",
   "metadata": {},
   "outputs": [],
   "source": [
    "pos2"
   ]
  },
  {
   "cell_type": "code",
   "execution_count": null,
   "id": "3066b20d",
   "metadata": {},
   "outputs": [],
   "source": [
    "pos.tail()"
   ]
  },
  {
   "cell_type": "code",
   "execution_count": null,
   "id": "d311acf0",
   "metadata": {},
   "outputs": [],
   "source": [
    "%load_ext autoreload\n",
    "%autoreload 2"
   ]
  },
  {
   "cell_type": "code",
   "execution_count": null,
   "id": "333a7dd5",
   "metadata": {},
   "outputs": [],
   "source": [
    "xr2=np.arange(26)+1\n",
    "\n",
    "plt.figure(figsize=(12,8))\n",
    "plt.plot( pos.iloc[:,1], 'o-' )\n",
    "plt.plot( xr2, pos2.iloc[:,0], '.-' )\n",
    "plt.grid()"
   ]
  },
  {
   "cell_type": "code",
   "execution_count": null,
   "id": "39b0354c",
   "metadata": {},
   "outputs": [],
   "source": [
    "plt.figure(figsize=(12,8))\n",
    "plt.plot( pos.iloc[:,2], '.-' )\n",
    "plt.plot( xr2,pos2.iloc[:,1], '.-' )"
   ]
  },
  {
   "cell_type": "code",
   "execution_count": null,
   "id": "2754bb50",
   "metadata": {},
   "outputs": [],
   "source": [
    "plt.figure(figsize=(12,8))\n",
    "plt.plot( pos.iloc[:,3], '.-' )\n",
    "plt.plot( xr2,pos2.iloc[:,2], '.-' )"
   ]
  },
  {
   "cell_type": "code",
   "execution_count": null,
   "id": "8896df4d",
   "metadata": {},
   "outputs": [],
   "source": [
    "import ui"
   ]
  },
  {
   "cell_type": "code",
   "execution_count": null,
   "id": "8423f635",
   "metadata": {},
   "outputs": [],
   "source": [
    "a,p1,p2,p3,p4=ui.make_positions(use_UI=False)"
   ]
  },
  {
   "cell_type": "code",
   "execution_count": null,
   "id": "55a2f6a8",
   "metadata": {},
   "outputs": [],
   "source": [
    "plt.figure(figsize=(10,8))\n",
    "\n",
    "test_frac=0.5\n",
    "\n",
    "# Measured (correctly working) data:\n",
    "plt.plot( (pos.iloc[:,0]-pos.iloc[0,0])/1e6, pos.iloc[:,1], '.' )\n",
    "\n",
    "xr2=np.linspace(0,3, len(p1))*test_frac + 3.0/2.0 - test_frac*3.0/2.0\n",
    "xr2=np.linspace(3/2-test_frac*3/2,3/2+test_frac*3/2, len(p1)) #*test_frac + 3.0/2.0 - test_frac*3.0/2.0\n",
    "plt.plot(xr2, p1, 's-')\n",
    "plt.grid()\n"
   ]
  },
  {
   "cell_type": "code",
   "execution_count": null,
   "id": "9eb81e2c",
   "metadata": {},
   "outputs": [],
   "source": [
    "plt.figure(figsize(15,12))\n",
    "xr=np.arange(27)*3 / 26.0\n",
    "plt.plot( xr, xr**2 * parms[0]+xr*parms[1] + parms[2], '.-' )\n",
    "\n",
    "# Measured (correctly working) data:\n",
    "plt.plot( (pos.iloc[:,0]-pos.iloc[0,0])/1e6, pos.iloc[:,1], '.' )\n",
    "\n",
    "\n",
    "parms=np.polyfit(xr,pos.iloc[:-1,1],2)\n",
    "print( parms)\n",
    "plt.grid()"
   ]
  },
  {
   "cell_type": "code",
   "execution_count": null,
   "id": "eea75333",
   "metadata": {},
   "outputs": [],
   "source": [
    "xr"
   ]
  },
  {
   "cell_type": "code",
   "execution_count": null,
   "id": "aaef8064",
   "metadata": {},
   "outputs": [],
   "source": [
    "# OLD/bad one\n",
    "plt.figure(figsize=(10,8))\n",
    "plt.plot(p1, 's-')\n",
    "plt.plot(pos.iloc[:,1], '.-' )"
   ]
  },
  {
   "cell_type": "code",
   "execution_count": null,
   "id": "fbae1248",
   "metadata": {},
   "outputs": [],
   "source": []
  },
  {
   "cell_type": "code",
   "execution_count": null,
   "id": "48b972da",
   "metadata": {},
   "outputs": [],
   "source": [
    "print( list(zip(p2[1:],pos2.iloc[:,1])) )\n",
    "\n",
    "list(zip(p3[1:],pos2.iloc[:,2]))"
   ]
  },
  {
   "cell_type": "code",
   "execution_count": null,
   "id": "f609ae10",
   "metadata": {},
   "outputs": [],
   "source": [
    "pos3=pd.read_csv('./pos_pvt_ui.csv',header=None, dtype='float')\n",
    "times3=(pos3.iloc[:,0]-pos3.iloc[0,0])\n",
    "pos4=pd.read_csv('./pos_pvt_ui_10.csv',header=None, dtype='float')\n",
    "times4=(pos4.iloc[:,0]-pos4.iloc[0,0])\n",
    "times4.iloc[27]=times4.iloc[26]+times4.iloc[1]"
   ]
  },
  {
   "cell_type": "code",
   "execution_count": null,
   "id": "2464a68a",
   "metadata": {},
   "outputs": [],
   "source": [
    "times4"
   ]
  },
  {
   "cell_type": "code",
   "execution_count": null,
   "id": "1cfb0a11",
   "metadata": {},
   "outputs": [],
   "source": [
    "plt.plot( times3/1e6, pos3.iloc[:,1], 'o')\n",
    "\n",
    "plt.plot( (pos.iloc[:,0]-pos.iloc[0,0])/1e6, pos.iloc[:,1])\n",
    "\n",
    "plt.plot( 3-times4/1e6/2-1.5/2, pos4.iloc[:,1], 's')\n",
    "plt.grid()"
   ]
  },
  {
   "cell_type": "code",
   "execution_count": null,
   "id": "3e97080b",
   "metadata": {},
   "outputs": [],
   "source": [
    "pos"
   ]
  },
  {
   "cell_type": "code",
   "execution_count": null,
   "id": "92f289d0",
   "metadata": {},
   "outputs": [],
   "source": []
  }
 ],
 "metadata": {
  "kernelspec": {
   "display_name": "Python 3 (ipykernel)",
   "language": "python",
   "name": "python3"
  },
  "language_info": {
   "codemirror_mode": {
    "name": "ipython",
    "version": 3
   },
   "file_extension": ".py",
   "mimetype": "text/x-python",
   "name": "python",
   "nbconvert_exporter": "python",
   "pygments_lexer": "ipython3",
   "version": "3.10.12"
  }
 },
 "nbformat": 4,
 "nbformat_minor": 5
}
