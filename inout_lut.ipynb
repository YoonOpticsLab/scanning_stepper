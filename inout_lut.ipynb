{
 "cells": [
  {
   "cell_type": "code",
   "execution_count": null,
   "id": "ec035495",
   "metadata": {},
   "outputs": [],
   "source": [
    "%pylab inline"
   ]
  },
  {
   "cell_type": "code",
   "execution_count": null,
   "id": "7c54141b",
   "metadata": {},
   "outputs": [],
   "source": [
    "# You can set this to true to make the delays a \"triangle\"\n",
    "OVERRIDE_WITH_LINEAR_DELAYS=False"
   ]
  },
  {
   "cell_type": "code",
   "execution_count": null,
   "id": "c3abaf89",
   "metadata": {},
   "outputs": [],
   "source": [
    "import luts # TODO: use those values instead of cell below"
   ]
  },
  {
   "cell_type": "code",
   "execution_count": null,
   "id": "5e9ff94d",
   "metadata": {},
   "outputs": [],
   "source": [
    "# Enter parameters here:\n",
    "\n",
    "# Time (seconds)\n",
    "t_max=1.5            # time (seconds) to get from min to max position\n",
    "angle_start_deg=20   # -angle to start (will go to zero and back)\n",
    "num_steps=900         # Number of stepper motor steps to traverse #800\n",
    "\n",
    "t=np.linspace(0,t_max) # # of items doesn't matter here, just for plot\n",
    "desired_pos=cos( t/t_max*np.radians(angle_start_deg))\n",
    "\n",
    "plt.plot(t_max-t,desired_pos, '-', label='Fn, equally sampled on x-axis (time)' )\n",
    "\n",
    "plt.xlabel('Time',size=18)\n",
    "plt.ylabel('Position',size=18)\n",
    "plt.grid()\n",
    "\n",
    "# But it's really equal samples of the y-axis that is needed.\n",
    "# So, invert the function above. Take the arccos of both sides.\n",
    "# arccos(desired_pos) = t/t_max*np.radians(20)\n",
    "\n",
    "steps=np.linspace(1,np.cos(radians(angle_start_deg)),num_steps-1)\n",
    "t_desired = arccos(steps) * t_max / np.radians(angle_start_deg)\n",
    "\n",
    "plot(t_max-t_desired,steps,'o', label='Desired. Equally sampled on y-axis (pos)')\n",
    "legend(loc='best')"
   ]
  },
  {
   "cell_type": "code",
   "execution_count": null,
   "id": "f4914d66",
   "metadata": {},
   "outputs": [],
   "source": [
    "# So, the time needed are the diffs of t_desired.\n",
    "# Also, need to flip the x-order. Start fast, then slow down in middle"
   ]
  },
  {
   "cell_type": "code",
   "execution_count": null,
   "id": "87d55cc4",
   "metadata": {},
   "outputs": [],
   "source": [
    "delays=np.diff(-t_desired[::-1]) * 1000000\n",
    "\n",
    "if OVERRIDE_WITH_LINEAR_DELAYS:\n",
    "    delays=np.linspace(1346,43919,num_steps)\n",
    "    \n",
    "intervals_usec = delays\n",
    "\n",
    "# Scale the intervals to uint8 for the table, going from 0-254 (linear)\n",
    "# We lose precision, of course, but hopefully with rounding are\n",
    "# still close to the desired behavior.\n",
    "\n",
    "#INTERVAL_TABLE_MAX=254.0 # uint8, from 0-254\n",
    "#INTERVAL_TABLE_MAX=2**16 # uint16 max\n",
    "INTERVAL_TABLE_MAX=np.max(delays)-np.min(delays) # By doing this, we make scaler=1 (don't need to divide anything with 16bits)\n",
    "\n",
    "expander_exponent=0\n",
    "# To get a more accurate int, multiply/divide by this (2k)\n",
    "# Start at 0, see if the maximum interval is better than precision\n",
    "# If so, increment expander until it's okay\n",
    "\n",
    "interval_min=np.round( np.min(intervals_usec) )\n",
    "interval_max=np.max(intervals_usec)\n",
    "scaler=((interval_max-interval_min)/INTERVAL_TABLE_MAX)\n",
    "scaler_expanded=np.round( scaler*(2**expander_exponent) )\n",
    "if scaler==0: scaler=1 # For constants scalar might be 0\n",
    "\n",
    "intervals =np.round( (intervals_usec-interval_min)/scaler_expanded )\n",
    "intervals_recon = np.array(\n",
    "    intervals * scaler_expanded + interval_min, dtype=int)\n",
    "\n",
    "print(\"Num Steps: %d\"%(num_steps) )\n",
    "print(\"Sum time recon.: %f sec\"%np.sum(intervals_recon/1000000) )\n",
    "print()\n",
    "print(\"Desired: %08.1f %08.1f\"%(interval_min, interval_max))\n",
    "print(\"InTable: %08.1f %08.1f\"%(np.min(intervals), np.max(intervals)))\n",
    "print(\"Scaler expanded: %d\"%scaler_expanded)\n",
    "print(\"Expander exponent: %d (unused?)\"%expander_exponent)\n",
    "print()\n",
    "print( intervals[0:5], intervals[-5:])\n",
    "print( intervals_recon[0:5], intervals_recon[-5:] )\n",
    "print( delays[0:5], delays[-5:])"
   ]
  },
  {
   "cell_type": "code",
   "execution_count": null,
   "id": "0c5b9c57",
   "metadata": {},
   "outputs": [],
   "source": [
    "plt.figure(figsize=(15,4))\n",
    "plt.plot( ( np.concatenate((delays/1000000, delays[::-1]/1000000))),'o-')\n",
    "plt.xlabel('Step #', size=18)\n",
    "plt.ylabel('Delay (ms)', size=18);"
   ]
  },
  {
   "cell_type": "code",
   "execution_count": null,
   "id": "23f560c6",
   "metadata": {},
   "outputs": [],
   "source": [
    "plt.figure(figsize=(15,6))\n",
    "plt.subplot(1,2,1)\n",
    "plot(np.cumsum(delays/1000000),np.linspace(0,1,len(delays)),\n",
    "     '-', label='desired')\n",
    "plot(np.cumsum(intervals_recon/1000000),\n",
    "     np.linspace(0,1,len(intervals_recon)), '-', label='Actual (16 bit table)')\n",
    "plt.legend()\n",
    "\n",
    "plt.subplot(1,2,2)\n",
    "plt.plot(delays-intervals_recon, label='Error (usec)')\n",
    "plt.legend()\n",
    "plt.grid()"
   ]
  },
  {
   "cell_type": "code",
   "execution_count": null,
   "id": "025a5318",
   "metadata": {},
   "outputs": [],
   "source": [
    "import datetime\n",
    "    \n",
    "fil=open('lookup_table2.h','wt')\n",
    "fil.writelines('//%s\\n'%datetime.datetime.now())\n",
    "fil.writelines('const unsigned int table2_info[] = {\\n')\n",
    "fil.writelines('\\t%d, //num_steps\\n'%num_steps);\n",
    "fil.writelines('\\t%d, //const unsigned int table_scaler = ;\\n'%scaler_expanded);\n",
    "fil.writelines('\\t%d, //const unsigned int table_expander_exponent = ;\\n'%expander_exponent);\n",
    "fil.writelines('\\t%d}; //const unsigned int table_interval_min = };\\n'%interval_min);\n",
    "fil.writelines('const PROGMEM uint16_t table2[] = {\\n');\n",
    "for nelement in intervals:\n",
    "    fil.writelines('%d,\\n'%nelement)\n",
    "fil.writelines('};\\n');\n",
    "fil.close()\n",
    "\n",
    "# In reverse:\n",
    "fil=open('lookup_table2r.h','wt')\n",
    "fil.writelines('//%s\\n'%datetime.datetime.now())\n",
    "fil.writelines('const unsigned int table2r_info[] = {\\n')\n",
    "fil.writelines('\\t%d, //num_steps\\n'%num_steps);\n",
    "fil.writelines('\\t%d, //const unsigned int table_scaler = ;\\n'%scaler_expanded);\n",
    "fil.writelines('\\t%d, //const unsigned int table_expander_exponent = ;\\n'%expander_exponent);\n",
    "fil.writelines('\\t%d}; //const unsigned int table_interval_min = };\\n'%interval_min);\n",
    "fil.writelines('const PROGMEM uint16_t table2r[] = {\\n');\n",
    "for nelement in intervals[::-1]:\n",
    "    fil.writelines('%d,\\n'% (nelement) )\n",
    "fil.writelines('};\\n');\n",
    "fil.close()\n",
    "\n",
    "if np.max(intervals)>2**16:\n",
    "    print(\"Problem, exceeded 16-bit table.\")\n",
    "else:\n",
    "    print(\"Ok. Please close/reopen Arduino IDE and recompile\")\n",
    "    print( datetime.datetime.now() )"
   ]
  },
  {
   "cell_type": "code",
   "execution_count": null,
   "id": "362a80a9",
   "metadata": {},
   "outputs": [],
   "source": [
    "%pylab inline"
   ]
  },
  {
   "cell_type": "code",
   "execution_count": null,
   "id": "f355ae66",
   "metadata": {},
   "outputs": [],
   "source": [
    "import luts\n",
    "plot(luts.t_max-luts.t_desired2,luts.steps2,'o', label='Desired. Equally sampled on y-axis (pos)')\n",
    "legend(loc='best')"
   ]
  },
  {
   "cell_type": "code",
   "execution_count": null,
   "id": "a34bcd59",
   "metadata": {},
   "outputs": [],
   "source": [
    "luts.coronal_pos(10)"
   ]
  },
  {
   "cell_type": "code",
   "execution_count": null,
   "id": "47a98d93",
   "metadata": {},
   "outputs": [],
   "source": [
    "%load_ext autoreload\n",
    "%autoreload 2"
   ]
  },
  {
   "cell_type": "code",
   "execution_count": null,
   "id": "ff07a9ec",
   "metadata": {},
   "outputs": [],
   "source": [
    "degrees=2\n",
    "frac=degrees/20.0\n",
    "\n",
    "plt.plot(-luts.t,luts.desired_pos2)\n",
    "\n",
    "t0=t_max*abs(frac)\n",
    "half=int( luts.desired_pos2.shape[0] * (frac-1e-15) )\n",
    "plt.plot(-t0,luts.desired_pos2[half], '.')\n",
    "\n",
    "steps_needed = int( luts.coronal_steps*(luts.desired_pos2[0]-luts.desired_pos2[half] ) /\n",
    "                   (luts.desired_pos2[0]-luts.desired_pos2[-1]))\n",
    "print (steps_needed)"
   ]
  },
  {
   "cell_type": "code",
   "execution_count": null,
   "id": "27b88ffc",
   "metadata": {},
   "outputs": [],
   "source": []
  },
  {
   "cell_type": "code",
   "execution_count": null,
   "id": "e930763e",
   "metadata": {},
   "outputs": [],
   "source": []
  },
  {
   "cell_type": "code",
   "execution_count": null,
   "id": "9f2ed27c",
   "metadata": {},
   "outputs": [],
   "source": [
    "luts.coronal_pos(2.5)"
   ]
  },
  {
   "cell_type": "code",
   "execution_count": null,
   "id": "71dd23cc",
   "metadata": {},
   "outputs": [],
   "source": [
    "8.0/7.77 * 3.0"
   ]
  },
  {
   "cell_type": "code",
   "execution_count": null,
   "id": "211db568",
   "metadata": {},
   "outputs": [],
   "source": [
    "plt.plot( luts.t_desired2 )"
   ]
  },
  {
   "cell_type": "code",
   "execution_count": null,
   "id": "fa9e0ab1",
   "metadata": {},
   "outputs": [],
   "source": [
    "luts.coronal_pos(2)"
   ]
  },
  {
   "cell_type": "code",
   "execution_count": null,
   "id": "b2adead7",
   "metadata": {},
   "outputs": [],
   "source": [
    "t0=16537944\n",
    "trev=16791632\n",
    "tX=16974316\n",
    "print(trev-t0)\n",
    "print(tX-trev)"
   ]
  },
  {
   "cell_type": "code",
   "execution_count": null,
   "id": "0d0f9af4",
   "metadata": {},
   "outputs": [],
   "source": [
    "print(( tX-trev - (trev-t0)) / 2.0 )"
   ]
  },
  {
   "cell_type": "code",
   "execution_count": null,
   "id": "9f85df29",
   "metadata": {},
   "outputs": [],
   "source": [
    "step1=-14\n",
    "np.sum(luts.t_delays2[step1+1:] ) *1e6"
   ]
  },
  {
   "cell_type": "code",
   "execution_count": null,
   "id": "c44cfde0",
   "metadata": {},
   "outputs": [],
   "source": [
    "np.sum(luts.t_delays2[step1-1:] )"
   ]
  },
  {
   "cell_type": "code",
   "execution_count": null,
   "id": "d596eea1",
   "metadata": {},
   "outputs": [],
   "source": [
    "delays=np.diff(-luts.t_desired2[::-1]) * 1000000"
   ]
  },
  {
   "cell_type": "code",
   "execution_count": null,
   "id": "96562dad",
   "metadata": {},
   "outputs": [],
   "source": [
    "delays"
   ]
  },
  {
   "cell_type": "code",
   "execution_count": null,
   "id": "eccd5263",
   "metadata": {},
   "outputs": [],
   "source": [
    "65474876 - 65013320"
   ]
  },
  {
   "cell_type": "code",
   "execution_count": null,
   "id": "2fd5bfcc",
   "metadata": {},
   "outputs": [],
   "source": [
    "20890508 - 20082780"
   ]
  },
  {
   "cell_type": "code",
   "execution_count": null,
   "id": "b8626d10",
   "metadata": {},
   "outputs": [],
   "source": [
    "252192568 - 248846400"
   ]
  },
  {
   "cell_type": "code",
   "execution_count": null,
   "id": "40d46858",
   "metadata": {},
   "outputs": [],
   "source": [
    "960247604-960016824"
   ]
  },
  {
   "cell_type": "code",
   "execution_count": null,
   "id": "3059d1d5",
   "metadata": {},
   "outputs": [],
   "source": [
    "80198420 - 78583036"
   ]
  },
  {
   "cell_type": "code",
   "execution_count": null,
   "id": "0efbfc36",
   "metadata": {},
   "outputs": [],
   "source": [
    "191932292 - 191124564"
   ]
  },
  {
   "cell_type": "code",
   "execution_count": null,
   "id": "a532a498",
   "metadata": {},
   "outputs": [],
   "source": [
    "luts.t_delays2[886:] * 1e6"
   ]
  },
  {
   "cell_type": "code",
   "execution_count": null,
   "id": "bd7d04ae",
   "metadata": {},
   "outputs": [],
   "source": []
  }
 ],
 "metadata": {
  "kernelspec": {
   "display_name": "Python 3 (ipykernel)",
   "language": "python",
   "name": "python3"
  },
  "language_info": {
   "codemirror_mode": {
    "name": "ipython",
    "version": 3
   },
   "file_extension": ".py",
   "mimetype": "text/x-python",
   "name": "python",
   "nbconvert_exporter": "python",
   "pygments_lexer": "ipython3",
   "version": "3.10.12"
  }
 },
 "nbformat": 4,
 "nbformat_minor": 5
}
