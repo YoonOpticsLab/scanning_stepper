{
 "cells": [
  {
   "cell_type": "code",
   "execution_count": null,
   "id": "ec035495",
   "metadata": {},
   "outputs": [],
   "source": [
    "%pylab inline"
   ]
  },
  {
   "cell_type": "code",
   "execution_count": null,
   "id": "a44a93b7",
   "metadata": {},
   "outputs": [],
   "source": [
    "# Much of this can be ignored: Was used to match Chloe's notebook, but really the point\n",
    "# is to just do arcsin of angles between 0 and 20 deg.\n",
    "\n",
    "num_steps=800 #6400 #6400*2\n",
    "linsp=np.linspace(0,1,num_steps)\n",
    "time_interval_usec = 3.0 / num_steps * 1000000\n",
    "\n",
    "\n",
    "num_steps_per_range = 6400\n",
    "\n",
    "realpos=linsp * 4.4\n",
    "theta=linsp*90\n",
    "theta_prime = theta\n",
    "tim=linsp*1.5\n",
    "\n",
    "steps_per_pos = 4.4 / num_steps_per_range\n",
    "\n",
    "theta_prime[0:3],theta_prime[-3:] #+0.000688\n",
    "pos=np.sin(radians(theta_prime))\n",
    "pos2=np.concatenate((pos[:-1],pos[::-1]) )\n",
    "tim2=np.concatenate((tim,tim[-1]+tim[1:]) )"
   ]
  },
  {
   "cell_type": "code",
   "execution_count": null,
   "id": "5e9ff94d",
   "metadata": {},
   "outputs": [],
   "source": [
    "np.arcsin(radians(0))"
   ]
  },
  {
   "cell_type": "code",
   "execution_count": null,
   "id": "5b1e703d",
   "metadata": {},
   "outputs": [],
   "source": [
    "plt.plot(tim2,pos2,'-')\n",
    "plt.xlabel('Time',size=14)\n",
    "plt.ylabel('Pos',size=14)\n",
    "\n",
    "# 6400=8000\n",
    "# 3200=4000\n",
    "# 1600=2000\n",
    "#  800=1000\n",
    "pos_divs=np.linspace(1-radians(20),1,800) # 3200\n",
    "\n",
    "theta_divs=np.arcsin(pos_divs)\n",
    "time_desired=theta_divs/(np.pi/2.0)*1.5\n",
    "plt.plot(time_desired, pos_divs, 'o')\n",
    "\n",
    "plt.grid()\n",
    "#plt.xlim(0,1.51)\n",
    "\n",
    "#plt.xlim(0,1.5)\n",
    "ax2=plt.twiny();\n",
    "plt.xlim(0,1*20.0)\n",
    "\n",
    "plt.figure()\n",
    "\n",
    "delays=diff(time_desired)*1000000\n",
    "\n",
    "plt.plot(delays, 'o-')\n",
    "plt.ylabel('Time between steps', size=14)\n",
    "plt.xlabel('Elapsed Time', size=14)\n",
    "plt.semilogy()\n",
    "plt.axhline(2**16+0,color='k')\n",
    "plt.axhline(0,color='k')\n",
    "print( '%6.2f'%np.min( delays), '%6.2f'%np.max(delays[:-1]), '%6.2f'%np.sum(delays))\n",
    "print( delays[:5])\n",
    "print( delays[-5:])\n"
   ]
  },
  {
   "cell_type": "code",
   "execution_count": null,
   "id": "87d55cc4",
   "metadata": {},
   "outputs": [],
   "source": [
    "intervals_usec =  delays\n",
    "\n",
    "# Scale the intervals to uint8 for the table, going from 0-254 (linear)\n",
    "# We lose precision, of course, but hopefully with rounding are\n",
    "# still close to the desired behavior.\n",
    "\n",
    "INTERVAL_TABLE_MAX=254.0 # uint8, from 0-254\n",
    "INTERVAL_TABLE_MAX=2**16 # uint8, from 0-254\n",
    "INTERVAL_TABLE_MAX=np.max(delays)-np.min(delays)\n",
    "\n",
    "expander_exponent=0 # To get a more accurate int, multiply/divide by this (2k)\n",
    "\n",
    "interval_min=np.round( np.min(intervals_usec) )\n",
    "interval_max=np.max(intervals_usec)\n",
    "scaler=((interval_max-interval_min)/INTERVAL_TABLE_MAX)\n",
    "scaler_expanded=np.round( scaler*(2**expander_exponent) )\n",
    "if scaler==0: scaler=1 # For constants scalar might be 0\n",
    "\n",
    "intervals_int8=np.round( (intervals_usec-interval_min)/scaler )\n",
    "intervals_int8_recon = np.array(\n",
    "    intervals_int8 * scaler_expanded/(2**expander_exponent) + interval_min, dtype=int)\n",
    "\n",
    "interval_min,interval_max,scaler,scaler_expanded,intervals_int8,np.sum(intervals_int8_recon)"
   ]
  },
  {
   "cell_type": "code",
   "execution_count": null,
   "id": "d9af11de",
   "metadata": {},
   "outputs": [],
   "source": [
    "hist((intervals_int8[0:3000]), bins=range(255) )"
   ]
  },
  {
   "cell_type": "code",
   "execution_count": null,
   "id": "23f560c6",
   "metadata": {},
   "outputs": [],
   "source": [
    "plot(intervals_int8_recon,'.')\n",
    "plot(delays)\n",
    "#plt.ylim(0.01,0.015)\n",
    "plt.semilogy()\n"
   ]
  },
  {
   "cell_type": "code",
   "execution_count": null,
   "id": "025a5318",
   "metadata": {},
   "outputs": [],
   "source": [
    "fil=open('lookup_table2.h','wt')\n",
    "fil.writelines('const unsigned int table2_info[] = {\\n')\n",
    "fil.writelines('\\t%d, //num_steps\\n'%num_steps);\n",
    "fil.writelines('\\t%d, //const unsigned int table_scaler = ;\\n'%scaler_expanded);\n",
    "fil.writelines('\\t%d, //const unsigned int table_expander_exponent = ;\\n'%expander_exponent);\n",
    "fil.writelines('\\t%d}; //const unsigned int table_interval_min = };\\n'%interval_min);\n",
    "fil.writelines('const PROGMEM uint16_t table2[] = {\\n');\n",
    "for nelement in intervals_int8:\n",
    "    fil.writelines('%d,\\n'%nelement)\n",
    "fil.writelines('};\\n');\n",
    "fil.close()\n",
    "\n",
    "# In reverse:\n",
    "fil=open('lookup_table2r.h','wt')\n",
    "fil.writelines('const unsigned int table2r_info[] = {\\n')\n",
    "fil.writelines('\\t%d, //num_steps\\n'%num_steps);\n",
    "fil.writelines('\\t%d, //const unsigned int table_scaler = ;\\n'%scaler_expanded);\n",
    "fil.writelines('\\t%d, //const unsigned int table_expander_exponent = ;\\n'%expander_exponent);\n",
    "fil.writelines('\\t%d}; //const unsigned int table_interval_min = };\\n'%interval_min);\n",
    "fil.writelines('const PROGMEM uint16_t table2r[] = {\\n');\n",
    "for nelement in intervals_int8[::-1]:\n",
    "    fil.writelines('%d,\\n'% (nelement) )\n",
    "fil.writelines('};\\n');\n",
    "fil.close()"
   ]
  },
  {
   "cell_type": "code",
   "execution_count": null,
   "id": "bb387f56",
   "metadata": {},
   "outputs": [],
   "source": [
    "#y=sin(x)\n",
    "#x=arcsin(y)"
   ]
  },
  {
   "cell_type": "code",
   "execution_count": null,
   "id": "41b3ed85",
   "metadata": {},
   "outputs": [],
   "source": [
    "tim2p=tim2[:-1] # Remove last element of time, since diff skips one elmt\n",
    "delta_pos = np.diff(pos2)\n",
    "delta_steps = abs(delta_pos)/steps_per_pos"
   ]
  },
  {
   "cell_type": "code",
   "execution_count": null,
   "id": "9a464b3b",
   "metadata": {},
   "outputs": [],
   "source": [
    "delta_steps[0:10]"
   ]
  },
  {
   "cell_type": "code",
   "execution_count": null,
   "id": "f4608f40",
   "metadata": {},
   "outputs": [],
   "source": [
    "delta_steps[ delta_steps<=1 ]=np.ceil(delta_steps[ delta_steps<=1 ]*2.0)/2.0\n",
    "\n",
    "plot(tim2p,delta_steps,'.')\n",
    "plt.ylabel('Steps to move', size=14)\n",
    "plt.xlabel('Time', size=14)\n",
    "\n",
    "print( np.sum(delta_steps))"
   ]
  },
  {
   "cell_type": "code",
   "execution_count": null,
   "id": "10a1a3f2",
   "metadata": {},
   "outputs": [],
   "source": [
    "delta_pos = np.diff(pos)\n",
    "delta_steps = abs(delta_pos)/steps_per_pos\n",
    "plt.plot(tim[1:],delta_steps)\n",
    "\n",
    "m,b=np.polyfit(tim[1:],delta_steps,1)\n",
    "\n",
    "plt.plot(tim[1:],tim[1:]*m+b,'r-')\n",
    "\n",
    "plt.loglog()"
   ]
  },
  {
   "cell_type": "code",
   "execution_count": null,
   "id": "f6072c63",
   "metadata": {},
   "outputs": [],
   "source": [
    "m,b\n",
    "# y=mx+b\n",
    "# x=(y-b)/m"
   ]
  },
  {
   "cell_type": "code",
   "execution_count": null,
   "id": "f095ee54",
   "metadata": {},
   "outputs": [],
   "source": [
    "# In each epoch between dots, how many steps do we need to fit in\n",
    "# that time interval?\n",
    "time_between_steps = time_interval_usec/(delta_steps)\n",
    "plot(tim2p,time_between_steps,'.')\n",
    "plt.ylabel('Time between steps (usec)', size=14)\n",
    "#plt.xlabel('Time', size=14)\n",
    "plt.semilogy()"
   ]
  },
  {
   "cell_type": "code",
   "execution_count": null,
   "id": "c3cfbaab",
   "metadata": {},
   "outputs": [],
   "source": [
    "print( np.min(time_between_steps) )\n",
    "print( np.max(time_between_steps) )\n",
    "print( np.sum(time_between_steps))"
   ]
  },
  {
   "cell_type": "code",
   "execution_count": null,
   "id": "d0c6ed95",
   "metadata": {},
   "outputs": [],
   "source": [
    "print (time_between_steps[0:5])\n",
    "half=len(time_between_steps)//2\n",
    "print (time_between_steps[half-5:half])"
   ]
  },
  {
   "cell_type": "code",
   "execution_count": null,
   "id": "c3f1c37a",
   "metadata": {},
   "outputs": [],
   "source": [
    "np.sum(time_between_steps)"
   ]
  },
  {
   "cell_type": "code",
   "execution_count": null,
   "id": "2e5f2fce",
   "metadata": {},
   "outputs": [],
   "source": []
  },
  {
   "cell_type": "code",
   "execution_count": null,
   "id": "de9d6ff6",
   "metadata": {},
   "outputs": [],
   "source": []
  },
  {
   "cell_type": "code",
   "execution_count": null,
   "id": "c685d8bc",
   "metadata": {},
   "outputs": [],
   "source": []
  },
  {
   "cell_type": "code",
   "execution_count": null,
   "id": "253473d8",
   "metadata": {},
   "outputs": [],
   "source": []
  },
  {
   "cell_type": "code",
   "execution_count": null,
   "id": "9a5b4a0c",
   "metadata": {},
   "outputs": [],
   "source": []
  },
  {
   "cell_type": "code",
   "execution_count": null,
   "id": "b725bba7",
   "metadata": {},
   "outputs": [],
   "source": []
  },
  {
   "cell_type": "code",
   "execution_count": null,
   "id": "57270977",
   "metadata": {},
   "outputs": [],
   "source": []
  },
  {
   "cell_type": "code",
   "execution_count": null,
   "id": "05819616",
   "metadata": {},
   "outputs": [],
   "source": []
  },
  {
   "cell_type": "code",
   "execution_count": null,
   "id": "8744796e",
   "metadata": {},
   "outputs": [],
   "source": []
  }
 ],
 "metadata": {
  "kernelspec": {
   "display_name": "Python 3 (ipykernel)",
   "language": "python",
   "name": "python3"
  },
  "language_info": {
   "codemirror_mode": {
    "name": "ipython",
    "version": 3
   },
   "file_extension": ".py",
   "mimetype": "text/x-python",
   "name": "python",
   "nbconvert_exporter": "python",
   "pygments_lexer": "ipython3",
   "version": "3.10.4"
  }
 },
 "nbformat": 4,
 "nbformat_minor": 5
}
