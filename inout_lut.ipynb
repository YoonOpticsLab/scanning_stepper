{
 "cells": [
  {
   "cell_type": "code",
   "execution_count": null,
   "id": "ec035495",
   "metadata": {},
   "outputs": [],
   "source": [
    "%pylab inline"
   ]
  },
  {
   "cell_type": "code",
   "execution_count": null,
   "id": "7c54141b",
   "metadata": {},
   "outputs": [],
   "source": [
    "# You can set this to true to make the delays a \"triangle\"\n",
    "OVERRIDE_WITH_LINEAR_DELAYS=True"
   ]
  },
  {
   "cell_type": "code",
   "execution_count": null,
   "id": "5e9ff94d",
   "metadata": {},
   "outputs": [],
   "source": [
    "# Enter parameters here:\n",
    "\n",
    "# Time (seconds)\n",
    "t_max=1.5            # time (seconds) to get from min to max position\n",
    "angle_start_deg=20   # -angle to start (will go to zero and back)\n",
    "num_steps=800         # Number of stepper motor steps to traverse \n",
    "\n",
    "t=np.linspace(0,t_max) # # of items doesn't matter here, just for plot\n",
    "desired_pos=cos( t/t_max*np.radians(angle_start_deg))\n",
    "\n",
    "plt.plot(t_max-t,desired_pos, '-', label='Fn, equally sampled on x-axis (time)' )\n",
    "\n",
    "plt.xlabel('Time',size=18)\n",
    "plt.ylabel('Position',size=18)\n",
    "plt.grid()\n",
    "\n",
    "# But it's really equal samples of the y-axis that is needed.\n",
    "# So, invert the function above. Take the arccos of both sides.\n",
    "# arccos(desired_pos) = t/t_max*np.radians(20)\n",
    "\n",
    "steps=np.linspace(1,np.cos(radians(angle_start_deg)),num_steps-1)\n",
    "t_desired = arccos(steps) * t_max / np.radians(angle_start_deg)\n",
    "\n",
    "plot(t_max-t_desired,steps,'o', label='Desired. Equally sampled on y-axis (pos)')\n",
    "legend(loc='best')"
   ]
  },
  {
   "cell_type": "code",
   "execution_count": null,
   "id": "f4914d66",
   "metadata": {},
   "outputs": [],
   "source": [
    "# So, the time needed are the diffs of t_desired.\n",
    "# Also, need to flip the x-order. Start fast, then slow down in middle"
   ]
  },
  {
   "cell_type": "code",
   "execution_count": null,
   "id": "87d55cc4",
   "metadata": {},
   "outputs": [],
   "source": [
    "delays=np.diff(-t_desired[::-1]) * 1000000\n",
    "\n",
    "if OVERRIDE_WITH_LINEAR_DELAYS:\n",
    "    delays=np.linspace(1346,43919,num_steps)\n",
    "    \n",
    "intervals_usec = delays\n",
    "\n",
    "# Scale the intervals to uint8 for the table, going from 0-254 (linear)\n",
    "# We lose precision, of course, but hopefully with rounding are\n",
    "# still close to the desired behavior.\n",
    "\n",
    "#INTERVAL_TABLE_MAX=254.0 # uint8, from 0-254\n",
    "#INTERVAL_TABLE_MAX=2**16 # uint16 max\n",
    "INTERVAL_TABLE_MAX=np.max(delays)-np.min(delays) # By doing this, we make scaler=1 (don't need to divide anything with 16bits)\n",
    "\n",
    "expander_exponent=0\n",
    "# To get a more accurate int, multiply/divide by this (2k)\n",
    "# Start at 0, see if the maximum interval is better than precision\n",
    "# If so, increment expander until it's okay\n",
    "\n",
    "interval_min=np.round( np.min(intervals_usec) )\n",
    "interval_max=np.max(intervals_usec)\n",
    "scaler=((interval_max-interval_min)/INTERVAL_TABLE_MAX)\n",
    "scaler_expanded=np.round( scaler*(2**expander_exponent) )\n",
    "if scaler==0: scaler=1 # For constants scalar might be 0\n",
    "\n",
    "intervals =np.round( (intervals_usec-interval_min)/scaler_expanded )\n",
    "intervals_recon = np.array(\n",
    "    intervals * scaler_expanded + interval_min, dtype=int)\n",
    "\n",
    "print(\"Num Steps: %d\"%(num_steps) )\n",
    "print(\"Sum time recon.: %f sec\"%np.sum(intervals_recon/1000000) )\n",
    "print()\n",
    "print(\"Desired: %08.1f %08.1f\"%(interval_min, interval_max))\n",
    "print(\"InTable: %08.1f %08.1f\"%(np.min(intervals), np.max(intervals)))\n",
    "print(\"Scaler expanded: %d\"%scaler_expanded)\n",
    "print(\"Expander exponent: %d (unused?)\"%expander_exponent)\n",
    "print()\n",
    "print( intervals[0:5], intervals[-5:])\n",
    "print( intervals_recon[0:5], intervals_recon[-5:] )\n",
    "print( delays[0:5], delays[-5:])"
   ]
  },
  {
   "cell_type": "code",
   "execution_count": null,
   "id": "0c5b9c57",
   "metadata": {},
   "outputs": [],
   "source": [
    "plt.figure(figsize=(15,4))\n",
    "plt.plot(np.concatenate( (delays/1000, delays[::-1]/1000)),'o-')\n",
    "plt.xlabel('Step #', size=18)\n",
    "plt.ylabel('Delay (ms)', size=18);"
   ]
  },
  {
   "cell_type": "code",
   "execution_count": null,
   "id": "23f560c6",
   "metadata": {},
   "outputs": [],
   "source": [
    "plt.figure(figsize=(15,6))\n",
    "plt.subplot(1,2,1)\n",
    "plot(np.cumsum(delays/1000000),np.linspace(0,1,len(delays)),\n",
    "     '-', label='desired')\n",
    "plot(np.cumsum(intervals_recon/1000000),\n",
    "     np.linspace(0,1,len(intervals_recon)), '-', label='Actual (16 bit table)')\n",
    "plt.legend()\n",
    "\n",
    "plt.subplot(1,2,2)\n",
    "plt.plot(delays-intervals_recon, label='Error (usec)')\n",
    "plt.legend()\n",
    "plt.grid()"
   ]
  },
  {
   "cell_type": "code",
   "execution_count": null,
   "id": "025a5318",
   "metadata": {},
   "outputs": [],
   "source": [
    "import datetime\n",
    "    \n",
    "fil=open('lookup_table2.h','wt')\n",
    "fil.writelines('//%s\\n'%datetime.datetime.now())\n",
    "fil.writelines('const unsigned int table2_info[] = {\\n')\n",
    "fil.writelines('\\t%d, //num_steps\\n'%num_steps);\n",
    "fil.writelines('\\t%d, //const unsigned int table_scaler = ;\\n'%scaler_expanded);\n",
    "fil.writelines('\\t%d, //const unsigned int table_expander_exponent = ;\\n'%expander_exponent);\n",
    "fil.writelines('\\t%d}; //const unsigned int table_interval_min = };\\n'%interval_min);\n",
    "fil.writelines('const PROGMEM uint16_t table2[] = {\\n');\n",
    "for nelement in intervals:\n",
    "    fil.writelines('%d,\\n'%nelement)\n",
    "fil.writelines('};\\n');\n",
    "fil.close()\n",
    "\n",
    "# In reverse:\n",
    "fil=open('lookup_table2r.h','wt')\n",
    "fil.writelines('//%s\\n'%datetime.datetime.now())\n",
    "fil.writelines('const unsigned int table2r_info[] = {\\n')\n",
    "fil.writelines('\\t%d, //num_steps\\n'%num_steps);\n",
    "fil.writelines('\\t%d, //const unsigned int table_scaler = ;\\n'%scaler_expanded);\n",
    "fil.writelines('\\t%d, //const unsigned int table_expander_exponent = ;\\n'%expander_exponent);\n",
    "fil.writelines('\\t%d}; //const unsigned int table_interval_min = };\\n'%interval_min);\n",
    "fil.writelines('const PROGMEM uint16_t table2r[] = {\\n');\n",
    "for nelement in intervals[::-1]:\n",
    "    fil.writelines('%d,\\n'% (nelement) )\n",
    "fil.writelines('};\\n');\n",
    "fil.close()\n",
    "\n",
    "if np.max(intervals)>2**16:\n",
    "    print(\"Problem, exceeded 16-bit table.\")\n",
    "else:\n",
    "    print(\"Ok. Please close/reopen Arduino IDE and recompile\")\n",
    "    print( datetime.datetime.now() )"
   ]
  },
  {
   "cell_type": "code",
   "execution_count": null,
   "id": "362a80a9",
   "metadata": {},
   "outputs": [],
   "source": []
  },
  {
   "cell_type": "code",
   "execution_count": null,
   "id": "f355ae66",
   "metadata": {},
   "outputs": [],
   "source": []
  }
 ],
 "metadata": {
  "kernelspec": {
   "display_name": "Python 3 (ipykernel)",
   "language": "python",
   "name": "python3"
  },
  "language_info": {
   "codemirror_mode": {
    "name": "ipython",
    "version": 3
   },
   "file_extension": ".py",
   "mimetype": "text/x-python",
   "name": "python",
   "nbconvert_exporter": "python",
   "pygments_lexer": "ipython3",
   "version": "3.10.6"
  }
 },
 "nbformat": 4,
 "nbformat_minor": 5
}
