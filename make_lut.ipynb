{
 "cells": [
  {
   "cell_type": "code",
   "execution_count": 1,
   "id": "cf5088c2",
   "metadata": {},
   "outputs": [
    {
     "name": "stdout",
     "output_type": "stream",
     "text": [
      "Populating the interactive namespace from numpy and matplotlib\n"
     ]
    }
   ],
   "source": [
    "%pylab inline"
   ]
  },
  {
   "cell_type": "code",
   "execution_count": 18,
   "id": "790aed31",
   "metadata": {},
   "outputs": [
    {
     "name": "stdout",
     "output_type": "stream",
     "text": [
      "428.57142857142856\n",
      "461.53846153846155\n",
      "230.76923076923077\n"
     ]
    }
   ],
   "source": [
    "num_steps=6500 # To sweep to \"-65\" : one edge (from zero)\n",
    "num_steps=6500*2 # To go from -65 to +65\n",
    "num_steps=7000\n",
    "\n",
    "x=np.arange(num_steps)\n",
    "\n",
    "print(3000000/num_steps)\n",
    "print(3000000/(6500*1))\n",
    "print(3000000/(6500*2))"
   ]
  },
  {
   "cell_type": "code",
   "execution_count": 12,
   "id": "7bd85637",
   "metadata": {},
   "outputs": [],
   "source": [
    "# Reasonable decreasing line (speeding up)\n",
    "slope=-0.015\n",
    "x0=255\n",
    "y=x*slope+x0"
   ]
  },
  {
   "cell_type": "code",
   "execution_count": 13,
   "id": "7a46d521",
   "metadata": {},
   "outputs": [],
   "source": [
    "# Reasonable decreasing line (speeding up)\n",
    "slope=0\n",
    "x0=255 #230.76\n",
    "#y=x*slope+x0"
   ]
  },
  {
   "cell_type": "code",
   "execution_count": 79,
   "id": "1dd8040b",
   "metadata": {},
   "outputs": [],
   "source": [
    "desired_y=(49.4145 / 7000 * (x+1.0) ) # 49.4145: Total desired vertical mvmt (?)"
   ]
  },
  {
   "cell_type": "code",
   "execution_count": 80,
   "id": "4099bc0e",
   "metadata": {},
   "outputs": [
    {
     "data": {
      "text/plain": [
       "(array([0.00705921, 0.01411843, 0.02117764, 0.02823686, 0.03529607]),\n",
       " array([49.38626314, 49.39332236, 49.40038157, 49.40744079, 49.4145    ]))"
      ]
     },
     "execution_count": 80,
     "metadata": {},
     "output_type": "execute_result"
    }
   ],
   "source": [
    "desired_y[0:5],desired_y[-5:]"
   ]
  },
  {
   "cell_type": "code",
   "execution_count": 81,
   "id": "17ce07c7",
   "metadata": {},
   "outputs": [],
   "source": [
    "# The measured movement follows this quadratic behavior. (Empirical, git to a quadratic)\n",
    "# So, invert to find the time between steps (the xs) that yield equally spaced desired_y's\n",
    "a=3.8687\n",
    "b=4.8654\n",
    "c=0.4721\n",
    "desired_times=(-b+np.sqrt(b**2-4*a*(-desired_y)))/(2*a)\n",
    "intervals=np.diff(desired_times)"
   ]
  },
  {
   "cell_type": "code",
   "execution_count": 82,
   "id": "7b096551",
   "metadata": {},
   "outputs": [
    {
     "data": {
      "text/plain": [
       "[<matplotlib.lines.Line2D at 0x7f6b46a33be0>]"
      ]
     },
     "execution_count": 82,
     "metadata": {},
     "output_type": "execute_result"
    },
    {
     "data": {
      "image/png": "[encoded data removed]",
      "text/plain": [
       "<Figure size 432x288 with 1 Axes>"
      ]
     },
     "metadata": {
      "needs_background": "light"
     },
     "output_type": "display_data"
    }
   ],
   "source": [
    "plt.plot(x,desired_times)"
   ]
  },
  {
   "cell_type": "code",
   "execution_count": 83,
   "id": "3111d12c",
   "metadata": {},
   "outputs": [
    {
     "data": {
      "text/plain": [
       "[<matplotlib.lines.Line2D at 0x7f6b4696f010>]"
      ]
     },
     "execution_count": 83,
     "metadata": {},
     "output_type": "execute_result"
    },
    {
     "data": {
      "image/png": "[encoded data removed]",
      "text/plain": [
       "<Figure size 432x288 with 1 Axes>"
      ]
     },
     "metadata": {
      "needs_background": "light"
     },
     "output_type": "display_data"
    }
   ],
   "source": []
  },
  {
   "cell_type": "code",
   "execution_count": 85,
   "id": "3d07edb3",
   "metadata": {},
   "outputs": [
    {
     "data": {
      "text/plain": [
       "array([0.0002515 , 0.00025148, 0.00025146, 0.00025144, 0.00025143])"
      ]
     },
     "execution_count": 85,
     "metadata": {},
     "output_type": "execute_result"
    }
   ],
   "source": [
    "intervals[-5:]"
   ]
  },
  {
   "cell_type": "code",
   "execution_count": 262,
   "id": "4b10d9ca",
   "metadata": {},
   "outputs": [],
   "source": [
    "intervals_usec = intervals * 1000000"
   ]
  },
  {
   "cell_type": "code",
   "execution_count": 263,
   "id": "aba17599",
   "metadata": {},
   "outputs": [],
   "source": [
    "#intervals_usec = intervals_usec * 0 + 250 # Testing constants"
   ]
  },
  {
   "cell_type": "code",
   "execution_count": 264,
   "id": "ced2ad45",
   "metadata": {},
   "outputs": [],
   "source": [
    "interval_min=np.round( np.min(intervals_usec) )\n",
    "interval_max=np.max(intervals_usec)\n",
    "scaler=((interval_max-interval_min)/254.0)\n",
    "if scaler==0: scaler=1 # For constants"
   ]
  },
  {
   "cell_type": "code",
   "execution_count": 265,
   "id": "85862f4b",
   "metadata": {},
   "outputs": [],
   "source": [
    "intervals_int8=np.round( (intervals_usec-interval_min)/scaler )\n",
    "intervals_int8_recon = np.array(\n",
    "    intervals_int8 * scaler_expanded/(2**expander_exponent) + interval_min, dtype=int)"
   ]
  },
  {
   "cell_type": "code",
   "execution_count": 267,
   "id": "98b6b31d",
   "metadata": {},
   "outputs": [
    {
     "data": {
      "text/plain": [
       "(251.0,\n",
       " 1445.9063699917458,\n",
       " 4.704355787369078,\n",
       " array([254., 253., 253., ...,   0.,   0.,   0.]))"
      ]
     },
     "execution_count": 267,
     "metadata": {},
     "output_type": "execute_result"
    }
   ],
   "source": [
    "interval_min,interval_max,scaler,intervals_int8"
   ]
  },
  {
   "cell_type": "code",
   "execution_count": null,
   "id": "95428ae9",
   "metadata": {},
   "outputs": [],
   "source": []
  },
  {
   "cell_type": "code",
   "execution_count": 214,
   "id": "480d6e7e",
   "metadata": {},
   "outputs": [
    {
     "data": {
      "text/plain": [
       "2998515.457989729"
      ]
     },
     "execution_count": 214,
     "metadata": {},
     "output_type": "execute_result"
    }
   ],
   "source": [
    "np.sum(intervals_int8_recon)"
   ]
  },
  {
   "cell_type": "code",
   "execution_count": 206,
   "id": "a405c9b7",
   "metadata": {},
   "outputs": [],
   "source": [
    "expander_exponent=11\n",
    "scaler_expanded=np.round( scaler*(2**expander_exponent) )"
   ]
  },
  {
   "cell_type": "code",
   "execution_count": 207,
   "id": "a6b23d53",
   "metadata": {},
   "outputs": [
    {
     "data": {
      "text/plain": [
       "9631.080020096051"
      ]
     },
     "execution_count": 207,
     "metadata": {},
     "output_type": "execute_result"
    }
   ],
   "source": [
    "scaler_times2048"
   ]
  },
  {
   "cell_type": "code",
   "execution_count": 185,
   "id": "1ed1fa4d",
   "metadata": {},
   "outputs": [
    {
     "data": {
      "text/plain": [
       "27312.6511702438"
      ]
     },
     "execution_count": 185,
     "metadata": {},
     "output_type": "execute_result"
    }
   ],
   "source": [
    "2**16-scaler_times2048*254"
   ]
  },
  {
   "cell_type": "code",
   "execution_count": 163,
   "id": "6e102795",
   "metadata": {},
   "outputs": [
    {
     "data": {
      "text/plain": [
       "258.01574803149606"
      ]
     },
     "execution_count": 163,
     "metadata": {},
     "output_type": "execute_result"
    }
   ],
   "source": [
    "2**16 / 254"
   ]
  },
  {
   "cell_type": "code",
   "execution_count": 150,
   "id": "222cac76",
   "metadata": {},
   "outputs": [
    {
     "data": {
      "text/plain": [
       "9631.080020096051"
      ]
     },
     "execution_count": 150,
     "metadata": {},
     "output_type": "execute_result"
    }
   ],
   "source": [
    "scaler*(2**11)"
   ]
  },
  {
   "cell_type": "code",
   "execution_count": 249,
   "id": "7ce719b7",
   "metadata": {},
   "outputs": [
    {
     "data": {
      "text/plain": [
       "array([1000., 1000., 1000., 1000., 1000., 1000., 1000., 1000., 1000.,\n",
       "       1000., 1000., 1000., 1000., 1000., 1000., 1000., 1000., 1000.,\n",
       "       1000., 1000., 1000., 1000., 1000., 1000., 1000., 1000., 1000.,\n",
       "       1000., 1000., 1000., 1000., 1000., 1000., 1000., 1000., 1000.,\n",
       "       1000., 1000., 1000., 1000., 1000., 1000., 1000., 1000., 1000.,\n",
       "       1000., 1000., 1000., 1000., 1000., 1000., 1000., 1000., 1000.,\n",
       "       1000., 1000., 1000., 1000., 1000., 1000., 1000., 1000., 1000.])"
      ]
     },
     "execution_count": 249,
     "metadata": {},
     "output_type": "execute_result"
    }
   ],
   "source": [
    "intervals_usec[0:63]"
   ]
  },
  {
   "cell_type": "code",
   "execution_count": 219,
   "id": "93a45b49",
   "metadata": {},
   "outputs": [
    {
     "data": {
      "text/plain": [
       "(array([254., 253., 253., 252., 251.]), array([0., 0., 0., 0., 0.]))"
      ]
     },
     "execution_count": 219,
     "metadata": {},
     "output_type": "execute_result"
    }
   ],
   "source": [
    "intervals_int8[0:5],intervals_int8[-5:]"
   ]
  },
  {
   "cell_type": "code",
   "execution_count": 202,
   "id": "bae2ea04",
   "metadata": {},
   "outputs": [
    {
     "data": {
      "text/plain": [
       "[<matplotlib.lines.Line2D at 0x7f6b44e512a0>]"
      ]
     },
     "execution_count": 202,
     "metadata": {},
     "output_type": "execute_result"
    },
    {
     "data": {
      "image/png": "[encoded data removed]",
      "text/plain": [
       "<Figure size 432x288 with 1 Axes>"
      ]
     },
     "metadata": {
      "needs_background": "light"
     },
     "output_type": "display_data"
    }
   ],
   "source": [
    "plt.plot(x[1:],intervals_usec)\n",
    "#plt.plot(x[1:],intervals_int8_recon)\n"
   ]
  },
  {
   "cell_type": "code",
   "execution_count": 204,
   "id": "5a975f06",
   "metadata": {},
   "outputs": [
    {
     "data": {
      "text/plain": [
       "[<matplotlib.lines.Line2D at 0x7f6b44e43400>]"
      ]
     },
     "execution_count": 204,
     "metadata": {},
     "output_type": "execute_result"
    },
    {
     "data": {
      "image/png": "[encoded data removed]",
      "text/plain": [
       "<Figure size 432x288 with 1 Axes>"
      ]
     },
     "metadata": {
      "needs_background": "light"
     },
     "output_type": "display_data"
    }
   ],
   "source": [
    "plt.plot(x[1:],intervals_usec**0.5)"
   ]
  },
  {
   "cell_type": "code",
   "execution_count": 26,
   "id": "d9537c2f",
   "metadata": {
    "scrolled": true
   },
   "outputs": [
    {
     "name": "stdout",
     "output_type": "stream",
     "text": [
      "24.71077965715 7000\n"
     ]
    },
    {
     "name": "stderr",
     "output_type": "stream",
     "text": [
      "/tmp/ipykernel_3500638/3661605142.py:5: RuntimeWarning: invalid value encountered in sqrt\n",
      "  y2=(-b+np.sqrt(b**2-4*a*(desired_y)))/(2*a)\n"
     ]
    },
    {
     "data": {
      "image/png": "[encoded data removed]",
      "text/plain": [
       "<Figure size 432x288 with 1 Axes>"
      ]
     },
     "metadata": {
      "needs_background": "light"
     },
     "output_type": "display_data"
    }
   ],
   "source": [
    "\n",
    "\n",
    "\n",
    "plt.plot(x,y)\n",
    "\n",
    "plt.plot(x,y2)\n",
    "\n",
    "plt.grid()\n",
    "print ( np.mean(y), len(y))\n",
    "\n",
    "y_round=np.round(y)"
   ]
  },
  {
   "cell_type": "code",
   "execution_count": 268,
   "id": "f8854c03",
   "metadata": {},
   "outputs": [],
   "source": [
    "fil=open('lookup_table1.h','wt')\n",
    "fil.writelines('const unsigned int table_scaler = %d;\\n'%scaler_times2048);\n",
    "fil.writelines('const unsigned int table_expander_exponent = %d;\\n'%expander_exponent);\n",
    "fil.writelines('const unsigned int table_interval_min = %d;\\n'%interval_min);\n",
    "fil.writelines('const PROGMEM uint8_t table1[] = {\\n');\n",
    "for nelement in intervals_int8:\n",
    "    fil.writelines('%d,\\n'%nelement)\n",
    "fil.writelines('};\\n');\n",
    "fil.close()"
   ]
  },
  {
   "cell_type": "code",
   "execution_count": 269,
   "id": "d86c6dab",
   "metadata": {},
   "outputs": [
    {
     "data": {
      "text/plain": [
       "7000"
      ]
     },
     "execution_count": 269,
     "metadata": {},
     "output_type": "execute_result"
    }
   ],
   "source": [
    "len(y_round)"
   ]
  },
  {
   "cell_type": "code",
   "execution_count": 270,
   "id": "bc3230da",
   "metadata": {},
   "outputs": [
    {
     "data": {
      "text/plain": [
       "175.0"
      ]
     },
     "execution_count": 270,
     "metadata": {},
     "output_type": "execute_result"
    }
   ],
   "source": [
    "700 * 0.25"
   ]
  },
  {
   "cell_type": "code",
   "execution_count": 271,
   "id": "7e6c8912",
   "metadata": {},
   "outputs": [
    {
     "data": {
      "text/plain": [
       "(0.0, 254.0)"
      ]
     },
     "execution_count": 271,
     "metadata": {},
     "output_type": "execute_result"
    }
   ],
   "source": [
    "np.min( intervals_int8 ), np.max( intervals_int8 )"
   ]
  },
  {
   "cell_type": "code",
   "execution_count": null,
   "id": "702dbccf",
   "metadata": {},
   "outputs": [],
   "source": []
  }
 ],
 "metadata": {
  "kernelspec": {
   "display_name": "Python 3 (ipykernel)",
   "language": "python",
   "name": "python3"
  },
  "language_info": {
   "codemirror_mode": {
    "name": "ipython",
    "version": 3
   },
   "file_extension": ".py",
   "mimetype": "text/x-python",
   "name": "python",
   "nbconvert_exporter": "python",
   "pygments_lexer": "ipython3",
   "version": "3.10.4"
  }
 },
 "nbformat": 4,
 "nbformat_minor": 5
}
