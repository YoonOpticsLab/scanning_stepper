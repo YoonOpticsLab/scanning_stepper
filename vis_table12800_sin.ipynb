{
 "cells": [
  {
   "cell_type": "code",
   "execution_count": null,
   "id": "d4c2b4af",
   "metadata": {},
   "outputs": [],
   "source": [
    "import pandas as pd\n",
    "import numpy as np\n",
    "import matplotlib.pyplot as plt\n",
    "\n",
    "df=pd.read_excel('./table_12800.xls')\n",
    "\n",
    "times=df[\"time between each step\"]\n",
    "\n",
    "plt.plot( times[6000:7000]*1000000)\n",
    "plt.grid()\n",
    "plt.figure()\n",
    "\n",
    "deriv=np.diff(times)\n",
    "\n",
    "plt.plot(deriv[1:6200])"
   ]
  },
  {
   "cell_type": "code",
   "execution_count": null,
   "id": "c5dbf9a1",
   "metadata": {},
   "outputs": [],
   "source": [
    "times[0] * 1000000"
   ]
  },
  {
   "cell_type": "code",
   "execution_count": null,
   "id": "928a940f",
   "metadata": {},
   "outputs": [],
   "source": [
    "times[0:5]"
   ]
  },
  {
   "cell_type": "code",
   "execution_count": null,
   "id": "d7fd8f29",
   "metadata": {},
   "outputs": [],
   "source": [
    "times[1]  * 1000000"
   ]
  },
  {
   "cell_type": "code",
   "execution_count": null,
   "id": "80a1919c",
   "metadata": {},
   "outputs": [],
   "source": [
    "times[10] * 1000000"
   ]
  },
  {
   "cell_type": "code",
   "execution_count": null,
   "id": "97560457",
   "metadata": {},
   "outputs": [],
   "source": [
    "times"
   ]
  },
  {
   "cell_type": "code",
   "execution_count": null,
   "id": "79312b6d",
   "metadata": {},
   "outputs": [],
   "source": []
  }
 ],
 "metadata": {
  "kernelspec": {
   "display_name": "Python 3 (ipykernel)",
   "language": "python",
   "name": "python3"
  },
  "language_info": {
   "codemirror_mode": {
    "name": "ipython",
    "version": 3
   },
   "file_extension": ".py",
   "mimetype": "text/x-python",
   "name": "python",
   "nbconvert_exporter": "python",
   "pygments_lexer": "ipython3",
   "version": "3.10.6"
  }
 },
 "nbformat": 4,
 "nbformat_minor": 5
}
