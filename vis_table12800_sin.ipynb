{
 "cells": [
  {
   "cell_type": "code",
   "execution_count": null,
   "id": "c8ff76d0",
   "metadata": {},
   "outputs": [],
   "source": [
    "import pandas as pd"
   ]
  },
  {
   "cell_type": "code",
   "execution_count": null,
   "id": "360c7efd",
   "metadata": {},
   "outputs": [],
   "source": [
    "df=pd.read_excel('./table_12800.xls')"
   ]
  },
  {
   "cell_type": "code",
   "execution_count": null,
   "id": "d4c2b4af",
   "metadata": {},
   "outputs": [],
   "source": [
    "times=df[\"time between each step\"]"
   ]
  },
  {
   "cell_type": "code",
   "execution_count": null,
   "id": "d809f223",
   "metadata": {},
   "outputs": [],
   "source": [
    "import matplotlib.pyplot as plt\n",
    "plt.plot( times[6000:7000]*1000000)\n",
    "plt.grid()"
   ]
  },
  {
   "cell_type": "code",
   "execution_count": null,
   "id": "3ead4d2e",
   "metadata": {},
   "outputs": [],
   "source": [
    "import numpy as np\n",
    "deriv=np.diff(times)"
   ]
  },
  {
   "cell_type": "code",
   "execution_count": null,
   "id": "8216ccc0",
   "metadata": {},
   "outputs": [],
   "source": [
    "plt.plot(deriv[1:6200])"
   ]
  },
  {
   "cell_type": "code",
   "execution_count": null,
   "id": "c5dbf9a1",
   "metadata": {},
   "outputs": [],
   "source": [
    "times[0] * 1000000"
   ]
  },
  {
   "cell_type": "code",
   "execution_count": null,
   "id": "928a940f",
   "metadata": {},
   "outputs": [],
   "source": [
    "times[0:5]"
   ]
  },
  {
   "cell_type": "code",
   "execution_count": null,
   "id": "d7fd8f29",
   "metadata": {},
   "outputs": [],
   "source": [
    "times[1]  * 1000000"
   ]
  },
  {
   "cell_type": "code",
   "execution_count": null,
   "id": "80a1919c",
   "metadata": {},
   "outputs": [],
   "source": [
    "times[10] * 1000000"
   ]
  },
  {
   "cell_type": "code",
   "execution_count": null,
   "id": "97560457",
   "metadata": {},
   "outputs": [],
   "source": [
    "times"
   ]
  },
  {
   "cell_type": "code",
   "execution_count": null,
   "id": "79312b6d",
   "metadata": {},
   "outputs": [],
   "source": []
  }
 ],
 "metadata": {
  "kernelspec": {
   "display_name": "Python 3 (ipykernel)",
   "language": "python",
   "name": "python3"
  },
  "language_info": {
   "codemirror_mode": {
    "name": "ipython",
    "version": 3
   },
   "file_extension": ".py",
   "mimetype": "text/x-python",
   "name": "python",
   "nbconvert_exporter": "python",
   "pygments_lexer": "ipython3",
   "version": "3.10.4"
  }
 },
 "nbformat": 4,
 "nbformat_minor": 5
}
